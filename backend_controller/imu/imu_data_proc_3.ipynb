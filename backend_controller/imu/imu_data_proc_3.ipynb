{
 "cells": [
  {
   "cell_type": "markdown",
   "metadata": {},
   "source": [
    "Imports And Init"
   ]
  },
  {
   "cell_type": "code",
   "execution_count": null,
   "metadata": {},
   "outputs": [],
   "source": [
    "from datetime import datetime\n",
    "import numpy as np\n",
    "from scipy.fft import fft, fftfreq\n",
    "from scipy.signal import butter, filtfilt\n",
    "import json\n",
    "import mysql.connector\n",
    "import ast\n",
    "\n",
    "db_config = {\n",
    "    'host': '150.140.186.118',\n",
    "    'port': 3306,\n",
    "    'user': 'readonly_student',\n",
    "    'password': 'iot_password',\n",
    "    'database': 'default'\n",
    "}\n"
   ]
  },
  {
   "cell_type": "markdown",
   "metadata": {},
   "source": [
    "Fetch Data"
   ]
  },
  {
   "cell_type": "code",
   "execution_count": null,
   "metadata": {},
   "outputs": [],
   "source": [
    "def fetch_data(table_name, attr_name, start_datetime=None, end_datetime=None):\n",
    "    \n",
    "    try:\n",
    "        # Establish the connection to the database\n",
    "        connection = mysql.connector.connect(**db_config)\n",
    "        cursor = connection.cursor()\n",
    "\n",
    "        query = f\"\"\"\n",
    "            SELECT \n",
    "                R1.attrValue AS timestamp,\n",
    "                R2.attrValue AS location, \n",
    "                R4.attrValue AS acc_x, \n",
    "                R5.attrValue AS acc_y, \n",
    "                R6.attrValue AS acc_z,\n",
    "                R7.attrValue AS speed,\n",
    "                R8.attrValue AS altitude\n",
    "            FROM \n",
    "                `default`.AutoSenseAnalytics_IMU_Measurement_raw AS R1 \n",
    "            JOIN \n",
    "                `default`.AutoSenseAnalytics_IMU_Measurement_raw AS R2 \n",
    "            JOIN \n",
    "                `default`.AutoSenseAnalytics_IMU_Measurement_raw AS R4 \n",
    "            JOIN \n",
    "                `default`.AutoSenseAnalytics_IMU_Measurement_raw AS R5  \n",
    "            JOIN \n",
    "                `default`.AutoSenseAnalytics_IMU_Measurement_raw AS R6\n",
    "            JOIN \n",
    "                `default`.AutoSenseAnalytics_IMU_Measurement_raw AS R7\n",
    "            JOIN \n",
    "                `default`.AutoSenseAnalytics_IMU_Measurement_raw AS R8\n",
    "            ON \n",
    "                R1.recvTimeTs = R2.recvTimeTs AND\n",
    "                R1.recvTimeTs = R4.recvTimeTs AND\n",
    "                R1.recvTimeTs = R5.recvTimeTs AND\n",
    "                R1.recvTimeTs = R6.recvTimeTs AND\n",
    "                R1.recvTimeTs = R7.recvTimeTs AND\n",
    "                R1.recvTimeTs = R8.recvTimeTs AND\n",
    "                R2.recvTimeTs = R4.recvTimeTs AND\n",
    "                R2.recvTimeTs = R5.recvTimeTs AND\n",
    "                R2.recvTimeTs = R6.recvTimeTs AND\n",
    "                R2.recvTimeTs = R7.recvTimeTs AND\n",
    "                R2.recvTimeTs = R8.recvTimeTs AND\n",
    "                R4.recvTimeTs = R5.recvTimeTs AND\n",
    "                R4.recvTimeTs = R6.recvTimeTs AND\n",
    "                R4.recvTimeTs = R7.recvTimeTs AND\n",
    "                R4.recvTimeTs = R8.recvTimeTs AND\n",
    "                R5.recvTimeTs = R6.recvTimeTs AND\n",
    "                R5.recvTimeTs = R7.recvTimeTs AND\n",
    "                R5.recvTimeTs = R8.recvTimeTs AND\n",
    "                R6.recvTimeTs = R7.recvTimeTs AND\n",
    "                R6.recvTimeTs = R8.recvTimeTs\n",
    "            WHERE \n",
    "                R1.attrName = \"date\" AND \n",
    "                R2.attrName = \"location\" AND\n",
    "                R4.attrName = \"accx\" AND \n",
    "                R5.attrName = \"accy\" AND \n",
    "                R6.attrName = \"accz\" AND\n",
    "                R7.attrName=  \"speed\" AND\n",
    "                R8.attrName=  \"altitude\";\n",
    "        \"\"\"\n",
    "        \n",
    "        # Define parameters for the query\n",
    "        # params = attr_name\n",
    "\n",
    "        cursor.execute(query)\n",
    "\n",
    "        # Fetch and return the results\n",
    "        results = cursor.fetchall()\n",
    "        json_results = []\n",
    "        for row in results:\n",
    "            # json_result = process_data(row)\n",
    "            json_results.append(row)\n",
    "        return json_results\n",
    "\n",
    "    except mysql.connector.Error as err:\n",
    "        print(f\"Error: {err}\")\n",
    "\n",
    "    finally:\n",
    "        # Close the cursor and connection\n",
    "        if cursor:\n",
    "            cursor.close()\n",
    "        if connection:\n",
    "            connection.close()"
   ]
  },
  {
   "cell_type": "code",
   "execution_count": null,
   "metadata": {},
   "outputs": [],
   "source": [
    "data=fetch_data(\"AutoSenseAnalytics_IMU_Measurement_raw\", \"timestamp\",\"2025-02-09T15:55:22.000Z\",\"2025-02-09T16:31:02.000Z\")\n",
    "print(data[3])"
   ]
  },
  {
   "cell_type": "code",
   "execution_count": null,
   "metadata": {},
   "outputs": [],
   "source": [
    "acc_x=[]\n",
    "acc_y=[]\n",
    "acc_z=[]\n",
    "latitude=[]\n",
    "longitude=[]\n",
    "speed=[]\n",
    "altitude=[]\n",
    "timestamp=[]\n",
    "for i in data:\n",
    "    timestamp.append(i[0])\n",
    "    latitude.append(json.loads(i[1])['coordinates'][0])\n",
    "    longitude.append(json.loads(i[1])['coordinates'][1])\n",
    "    acc_x.append(i[2])\n",
    "    acc_y.append(i[3])\n",
    "    acc_z.append(i[4])\n",
    "    speed.append(i[5])\n",
    "    altitude.append(i[6])\n"
   ]
  },
  {
   "cell_type": "code",
   "execution_count": null,
   "metadata": {},
   "outputs": [],
   "source": [
    "#fix the format '[]' to []\n",
    "acc_x_proc= [ast.literal_eval(item) for item in acc_x]\n",
    "acc_y_proc= [ast.literal_eval(item) for item in acc_y]\n",
    "acc_z_proc= [ast.literal_eval(item) for item in acc_z]\n"
   ]
  },
  {
   "cell_type": "code",
   "execution_count": null,
   "metadata": {},
   "outputs": [],
   "source": [
    "print(acc_z_proc[0])"
   ]
  },
  {
   "cell_type": "code",
   "execution_count": null,
   "metadata": {},
   "outputs": [],
   "source": [
    "import matplotlib.pyplot as plt\n",
    "\n",
    "def calc_rough_score(acc_list):\n",
    "    # Define sample rate (assuming 10 Hz, meaning 0.1s intervals)\n",
    "    sampling_rate = 20  # Hz (adjust based on actual sampling rate)\n",
    "    n = len(acc_list)  # Number of samples\n",
    "\n",
    "    # Compute FFT\n",
    "    fft_values = np.fft.fft(acc_list)\n",
    "    fft_magnitudes = np.abs(fft_values)  # Get magnitude (strength) of each frequency\n",
    "    frequencies = np.fft.fftfreq(n, d=1/sampling_rate)  # Get corresponding frequency bins\n",
    "\n",
    "    # Keep only the positive half of frequencies (since FFT is symmetric)\n",
    "    positive_freqs = frequencies[:n//2]\n",
    "    positive_magnitudes = fft_magnitudes[:n//2]\n",
    "\n",
    "    # plt.figure(figsize=(10,5))\n",
    "    # plt.plot(positive_freqs, positive_magnitudes, marker='o')\n",
    "    # plt.xlabel(\"Frequency (Hz)\")\n",
    "    # plt.ylabel(\"Magnitude\")\n",
    "    # plt.title(\"Frequency Spectrum of Acceleration Data\")\n",
    "    # plt.grid()\n",
    "    # plt.show()\n",
    "\n",
    "    roughness_score = np.sum(positive_magnitudes[positive_freqs > 5])  # Adjust threshold if needed\n",
    "    print(\"Road Roughness Score:\", roughness_score)\n",
    "    return roughness_score\n",
    "\n",
    "scores=[]\n",
    "for i in acc_z_proc:\n",
    "    if len(i) == 0:\n",
    "        scores.append(0)\n",
    "        continue\n",
    "\n",
    "    score=calc_rough_score(i)\n",
    "    scores.append(score)\n",
    "\n",
    "print(scores)   "
   ]
  },
  {
   "cell_type": "code",
   "execution_count": null,
   "metadata": {},
   "outputs": [],
   "source": [
    "print(len(scores))"
   ]
  },
  {
   "cell_type": "code",
   "execution_count": null,
   "metadata": {},
   "outputs": [],
   "source": [
    "plt.plot(timestamp[1:], scores[1:], label='acc_x_max', color='r')\n",
    "plt.show()\n"
   ]
  },
  {
   "cell_type": "code",
   "execution_count": null,
   "metadata": {},
   "outputs": [],
   "source": [
    "plt.plot(timestamp[1:], acc_x_std[1:], label='acc_x_std', color='r')\n",
    "plt.plot(timestamp[1:], acc_y_std[1:], label='acc_y_std', color='g')\n",
    "plt.plot(timestamp[1:], acc_z_std[1:], label='acc_z_std', color='b')\n",
    "plt.legend(loc='upper right')\n",
    "plt.show()\n"
   ]
  },
  {
   "cell_type": "markdown",
   "metadata": {},
   "source": [
    "Post it to influx"
   ]
  },
  {
   "cell_type": "code",
   "execution_count": null,
   "metadata": {},
   "outputs": [],
   "source": [
    "def process_data(timestamp, latitude,longitude,roughness_score, speed, altitude):\n",
    "    try:\n",
    "        return {\n",
    "            'timestamp': timestamp,\n",
    "            'latitude': latitude,\n",
    "            'longitude': longitude,\n",
    "            'rougness_score': roughness_score,\n",
    "            'speed': speed,\n",
    "            'altitude': altitude\n",
    "        }\n",
    "    except Exception as e:\n",
    "        print(f\"Error: {e}\")\n",
    "        return None\n",
    "\n",
    "print(timestamp[1], latitude[1],longitude[1], scores[1], speed[1], altitude[1])\n"
   ]
  },
  {
   "cell_type": "code",
   "execution_count": null,
   "metadata": {},
   "outputs": [],
   "source": [
    "from influxdb_client import InfluxDBClient, Point\n",
    "from influxdb_client.client.write_api import SYNCHRONOUS\n",
    "\n",
    "# InfluxDB connection details\n",
    "influxdb_url = \"http://150.140.186.118:8086\"\n",
    "bucket = \"AutoSenseAnalytics_imu_fft_score\"\n",
    "org = \"students\"\n",
    "token = \"kmVB5CFkQCqOSHpLPYc8N0C46IG_mAu9LnT1LdKGYC8k6_DlpUPAs31n9fP4sJaXjLJkyZ_Y9bvceMy5B3wobQ==\"\n",
    "\n"
   ]
  },
  {
   "cell_type": "code",
   "execution_count": null,
   "metadata": {},
   "outputs": [],
   "source": [
    "points=[]\n",
    "for i in range(1,len(timestamp)):\n",
    "    point= Point(\"imu_fft_score\")\\\n",
    "            .field(\"roughness\", float(scores[i]))\\\n",
    "            .field(\"speed\", float(speed[i]))\\\n",
    "            .field(\"altitude\", float(altitude[i]))\\\n",
    "            .field(\"latitude\", float(latitude[i]))\\\n",
    "            .field(\"longitude\", float(longitude[i]))\\\n",
    "            .time(timestamp[i])\n",
    "    points.append(point)\n",
    "\n",
    "client = InfluxDBClient(url=influxdb_url, token=token, org=org)\n",
    "try:\n",
    "    write_api = client.write_api(write_options=SYNCHRONOUS)\n",
    "    write_api.write(bucket=bucket, org=org, record=points)\n",
    "    write_api.flush()\n",
    "finally:\n",
    "    client.close()\n",
    "    print(\"InfluxDB updated successfully\")\n"
   ]
  }
 ],
 "metadata": {
  "kernelspec": {
   "display_name": "Python 3",
   "language": "python",
   "name": "python3"
  },
  "language_info": {
   "codemirror_mode": {
    "name": "ipython",
    "version": 3
   },
   "file_extension": ".py",
   "mimetype": "text/x-python",
   "name": "python",
   "nbconvert_exporter": "python",
   "pygments_lexer": "ipython3",
   "version": "3.13.1"
  }
 },
 "nbformat": 4,
 "nbformat_minor": 2
}
